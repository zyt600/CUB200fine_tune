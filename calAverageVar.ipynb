{
 "cells": [
  {
   "cell_type": "markdown",
   "source": [
    "# 本文件用于计算训练集中的图片均值、方差，作为测试集的估计"
   ],
   "metadata": {
    "collapsed": false,
    "pycharm": {
     "name": "#%% md\n"
    }
   }
  },
  {
   "cell_type": "code",
   "execution_count": 1,
   "outputs": [],
   "source": [
    "import torch\n",
    "from torchvision import transforms\n",
    "from torch.utils.data import Dataset\n",
    "from PIL import Image"
   ],
   "metadata": {
    "collapsed": false,
    "pycharm": {
     "name": "#%%\n"
    }
   }
  },
  {
   "cell_type": "code",
   "execution_count": 2,
   "outputs": [],
   "source": [
    "def getStat(train_data):\n",
    "    \"\"\"计算均值方差\"\"\"\n",
    "    print(len(train_data))\n",
    "    train_loader = torch.utils.data.DataLoader(\n",
    "        train_data, batch_size=1, shuffle=False, num_workers=0,\n",
    "        pin_memory=True)\n",
    "    mean = torch.zeros(3)\n",
    "    std = torch.zeros(3)\n",
    "    for _, X in train_loader:\n",
    "        for d in range(3):\n",
    "            mean[d] += X[:, d, :, :].mean()\n",
    "            std[d] += X[:, d, :, :].std()\n",
    "    mean.div_(len(train_data))\n",
    "    std.div_(len(train_data))\n",
    "    return list(mean.numpy()), list(std.numpy())"
   ],
   "metadata": {
    "collapsed": false,
    "pycharm": {
     "name": "#%%\n"
    }
   }
  },
  {
   "cell_type": "code",
   "execution_count": 5,
   "outputs": [],
   "source": [
    "class myBigBatchDataset_lowMemory(Dataset):\n",
    "  def __init__(self,data_set_path,train):\n",
    "    self.labelList=[]\n",
    "    self.imgList=[]\n",
    "    trainMap={}\n",
    "    self.data_set_path=data_set_path\n",
    "\n",
    "    if train:\n",
    "      train=1\n",
    "    else:\n",
    "      train=0\n",
    "\n",
    "    with open(data_set_path+r\"train_test_split.txt\",'r') as trainList:\n",
    "      trainList=trainList.readlines()\n",
    "    for line in trainList:\n",
    "      listt=line.split()\n",
    "      trainMap[int(listt[0])]=int(listt[1])\n",
    "\n",
    "    with open(data_set_path+r\"images.txt\",'r') as imgNames:\n",
    "      imgNames=imgNames.readlines()\n",
    "\n",
    "    with open(data_set_path+r\"image_class_labels.txt\",'r') as image_class_labels:\n",
    "      image_class_labels=image_class_labels.readlines()\n",
    "\n",
    "    for i in range(len(trainList)):\n",
    "      if trainMap[i+1]!=train:\n",
    "        continue\n",
    "      imgName=imgNames[i].split()[1]\n",
    "      image_class_label=int(image_class_labels[i].split()[1])-1\n",
    "      self.labelList.append(image_class_label)\n",
    "      self.imgList.append(imgName)\n",
    "\n",
    "    print(len(self.labelList))\n",
    "    print(len(self.imgList))\n",
    "\n",
    "\n",
    "  def __getitem__(self, index):\n",
    "    imgPath=self.data_set_path+\"images/\"+self.imgList[index]\n",
    "    trans=transforms.Compose([\n",
    "        transforms.Resize(256),\n",
    "        transforms.CenterCrop(224),\n",
    "        transforms.ToTensor()\n",
    "      ])\n",
    "\n",
    "    op=Image.open(imgPath).convert('RGB')  # 貌似这是jpg的图所以没有透明通道，所以.convert('RGB')与否不重要\n",
    "    # op=op.resize((224,224))\n",
    "    op=trans(op)\n",
    "\n",
    "    return self.labelList[index],op\n",
    "\n",
    "  def __len__(self):\n",
    "    return len(self.labelList)"
   ],
   "metadata": {
    "collapsed": false,
    "pycharm": {
     "name": "#%%\n"
    }
   }
  },
  {
   "cell_type": "code",
   "execution_count": 7,
   "outputs": [
    {
     "name": "stdout",
     "output_type": "stream",
     "text": [
      "5994\n",
      "5994\n",
      "5994\n",
      "([0.4831071, 0.49175683, 0.42481932], [0.18385762, 0.18334596, 0.19432227])\n"
     ]
    }
   ],
   "source": [
    "if __name__ == '__main__':\n",
    "    train_dataset = myBigBatchDataset_lowMemory(\"./CUB_200_2011/CUB_200_2011/\",train=True)\n",
    "    print(getStat(train_dataset))"
   ],
   "metadata": {
    "collapsed": false,
    "pycharm": {
     "name": "#%%\n"
    }
   }
  },
  {
   "cell_type": "code",
   "execution_count": null,
   "outputs": [],
   "source": [
    "#test  ([0.4840248, 0.49250537, 0.42385778], [0.18513449, 0.1837308, 0.19505417])\n",
    "#train ([0.4831071, 0.49175683, 0.42481932], [0.18385762, 0.18334596, 0.19432227])"
   ],
   "metadata": {
    "collapsed": false,
    "pycharm": {
     "name": "#%%\n"
    }
   }
  }
 ],
 "metadata": {
  "kernelspec": {
   "display_name": "Python 3",
   "language": "python",
   "name": "python3"
  },
  "language_info": {
   "codemirror_mode": {
    "name": "ipython",
    "version": 2
   },
   "file_extension": ".py",
   "mimetype": "text/x-python",
   "name": "python",
   "nbconvert_exporter": "python",
   "pygments_lexer": "ipython2",
   "version": "2.7.6"
  }
 },
 "nbformat": 4,
 "nbformat_minor": 0
}