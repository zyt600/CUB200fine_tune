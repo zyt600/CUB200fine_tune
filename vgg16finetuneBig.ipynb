{
 "cells": [
  {
   "cell_type": "code",
   "execution_count": 1,
   "outputs": [
    {
     "name": "stdout",
     "output_type": "stream",
     "text": [
      "Using cuda:0 device\n"
     ]
    }
   ],
   "source": [
    "import os\n",
    "from torch import nn\n",
    "# from torchvision.models import VGG16_Weights\n",
    "import torchvision.models as models\n",
    "import torch\n",
    "import ssl\n",
    "import numpy as np\n",
    "ssl._create_default_https_context = ssl._create_unverified_context # 这行代码为了  下载预训练权重时不出网络问题\n",
    "\n",
    "cuda = torch.cuda.is_available()\n",
    "device = torch.device(\"cuda:0\" if cuda else \"cpu\")\n",
    "print('Using {} device'.format(device))"
   ],
   "metadata": {
    "collapsed": false,
    "pycharm": {
     "name": "#%%\n"
    }
   }
  },
  {
   "cell_type": "code",
   "execution_count": 2,
   "outputs": [],
   "source": [
    "seed = 1008\n",
    "torch.manual_seed(seed)\n",
    "if cuda:\n",
    "    torch.cuda.manual_seed(seed)\n",
    "    torch.cuda.manual_seed_all(seed)"
   ],
   "metadata": {
    "collapsed": false,
    "pycharm": {
     "name": "#%%\n"
    }
   }
  },
  {
   "cell_type": "code",
   "execution_count": 6,
   "outputs": [],
   "source": [
    "from torchvision.transforms import transforms\n",
    "from torch.utils.data import DataLoader, Dataset\n",
    "from PIL import Image\n",
    "\n",
    "class myBigBatchDataset_highMemory(Dataset):\n",
    "  def __init__(self,data_set_path,train):\n",
    "    self.labelList=[]\n",
    "    self.imgList=[]\n",
    "    trainMap={}\n",
    "\n",
    "    if train:\n",
    "      train=1\n",
    "    else:\n",
    "      train=0\n",
    "\n",
    "    with open(data_set_path+r\"train_test_split.txt\",'r') as trainList:\n",
    "      trainList=trainList.readlines()\n",
    "    for line in trainList:\n",
    "      listt=line.split()\n",
    "      trainMap[int(listt[0])]=int(listt[1])\n",
    "\n",
    "    with open(data_set_path+r\"images.txt\",'r') as imgNames:\n",
    "      imgNames=imgNames.readlines()\n",
    "\n",
    "    with open(data_set_path+r\"image_class_labels.txt\",'r') as image_class_labels:\n",
    "      image_class_labels=image_class_labels.readlines()\n",
    "\n",
    "\n",
    "    for i in range(len(trainList)):\n",
    "      if trainMap[i+1]!=train:\n",
    "        continue\n",
    "      imgName=imgNames[i].split()[1]\n",
    "      image_class_label=int(image_class_labels[i].split()[1])-1\n",
    "      imgPath=data_set_path+os.sep+r\"images/\"+os.sep+imgName\n",
    "      trans=transforms.ToTensor()\n",
    "\n",
    "      with Image.open(imgPath).convert('RGB')  as op:# 貌似这是jpg的图所以没有透明通道，所以.convert('RGB')与否不重要\n",
    "          op=op.resize((224,224))\n",
    "          op=trans(op)\n",
    "      # print(\"image_class_label\",image_class_label)\n",
    "\n",
    "      self.labelList.append(image_class_label)\n",
    "      self.imgList.append(op)\n",
    "\n",
    "\n",
    "  def __getitem__(self, index):\n",
    "    return self.labelList[index],self.imgList[index]\n",
    "\n",
    "  def __len__(self):\n",
    "    return len(self.labelList)\n"
   ],
   "metadata": {
    "collapsed": false,
    "pycharm": {
     "name": "#%%\n"
    }
   }
  },
  {
   "cell_type": "code",
   "execution_count": 7,
   "outputs": [],
   "source": [
    "trainDataSet=myBigBatchDataset_highMemory(r\"./CUB_200_2011/CUB_200_2011/\",True)\n",
    "testDataSet=myBigBatchDataset_highMemory(r\"./CUB_200_2011/CUB_200_2011/\",False)"
   ],
   "metadata": {
    "collapsed": false,
    "pycharm": {
     "name": "#%%\n"
    }
   }
  },
  {
   "cell_type": "code",
   "execution_count": 8,
   "outputs": [],
   "source": [
    "trainDataLoader=DataLoader(trainDataSet,batch_size=50,shuffle=True)\n",
    "testDataLoader=DataLoader(testDataSet,batch_size=100,shuffle=False)"
   ],
   "metadata": {
    "collapsed": false,
    "pycharm": {
     "name": "#%%\n"
    }
   }
  },
  {
   "cell_type": "code",
   "execution_count": 9,
   "outputs": [],
   "source": [
    "import torch.nn.functional as F\n",
    "class vgg16FineTuneModel(nn.Module):\n",
    "    def __init__(self):\n",
    "        super().__init__()\n",
    "        self.model=models.vgg16(pretrained=True)\n",
    "        self.model.classifier[-1]=nn.Linear(in_features=4096, out_features=200)\n",
    "\n",
    "    def forward(self, x):\n",
    "        x=self.model(x)\n",
    "        return x\n",
    "\n",
    "    def frz(self,fz):\n",
    "        if fz:\n",
    "            for param in self.model.parameters():\n",
    "                param.requires_grad=False\n",
    "            for param in self.model.classifier[-1].parameters():\n",
    "                param.requires_grad=True\n",
    "        else:\n",
    "            for param in self.model.parameters():\n",
    "                param.requires_grad=True"
   ],
   "metadata": {
    "collapsed": false,
    "pycharm": {
     "name": "#%%\n"
    }
   }
  },
  {
   "cell_type": "code",
   "execution_count": 10,
   "outputs": [
    {
     "name": "stderr",
     "output_type": "stream",
     "text": [
      "D:\\anacccnew\\envs\\mul2\\lib\\site-packages\\torchvision\\models\\_utils.py:208: UserWarning: The parameter 'pretrained' is deprecated since 0.13 and will be removed in 0.15, please use 'weights' instead.\n",
      "  warnings.warn(\n",
      "D:\\anacccnew\\envs\\mul2\\lib\\site-packages\\torchvision\\models\\_utils.py:223: UserWarning: Arguments other than a weight enum or `None` for 'weights' are deprecated since 0.13 and will be removed in 0.15. The current behavior is equivalent to passing `weights=VGG16_Weights.IMAGENET1K_V1`. You can also use `weights=VGG16_Weights.DEFAULT` to get the most up-to-date weights.\n",
      "  warnings.warn(msg)\n"
     ]
    }
   ],
   "source": [
    "md=vgg16FineTuneModel()"
   ],
   "metadata": {
    "collapsed": false,
    "pycharm": {
     "name": "#%%\n"
    }
   }
  },
  {
   "cell_type": "code",
   "execution_count": 14,
   "outputs": [],
   "source": [
    "from torch import optim\n",
    "\n",
    "def train(model,train_loader,epoch,learning_rate=0.1,fz=True):\n",
    "    optimizer = optim.SGD(model.parameters(), lr=learning_rate,momentum=0.7)\n",
    "    lossFunction=nn.CrossEntropyLoss()\n",
    "    model.to(device)\n",
    "    model.train()\n",
    "    model.frz(fz)\n",
    "    for i in range(epoch):\n",
    "        wrongNum=0\n",
    "        rightNum=0\n",
    "        print(\"epoch\",i+1,\"/\",epoch)\n",
    "        for batch_idx,(label,data) in enumerate(train_loader):\n",
    "            data=data.to(device)\n",
    "            label=label.to(device)\n",
    "            optimizer.zero_grad()\n",
    "\n",
    "            output=model.forward(data)\n",
    "\n",
    "            loss=lossFunction(output,label)\n",
    "            loss.backward()\n",
    "            optimizer.step()\n",
    "\n",
    "            pre=output.argmax(dim=1)\n",
    "            summ=torch.eq(pre,label).sum()\n",
    "            summ=int(summ)\n",
    "            rightNum+=summ\n",
    "            wrongNum+=(len(label)-summ)\n",
    "\n",
    "            if batch_idx%16==0:\n",
    "                print(\"loss\",\"%.6f\"%float(loss),\"rightNum\",rightNum,\"wrongNum\",wrongNum,\"Acc:%.6f%%\"%(100*rightNum/(rightNum+wrongNum)))\n",
    "\n",
    "        torch.save(model, 'vgg16finetuneBig.pth')\n",
    "        print(\"TOTALrightNum\",rightNum,\"TOTALwrongNum\",wrongNum,\"Acc:%.6f%%\"%(100*rightNum/(rightNum+wrongNum)))\n",
    "        print(\"save\")"
   ],
   "metadata": {
    "collapsed": false,
    "pycharm": {
     "name": "#%%\n"
    }
   }
  },
  {
   "cell_type": "code",
   "execution_count": 20,
   "outputs": [],
   "source": [
    "def test(model,val_loader): # 定义测试函数\n",
    "    model.eval()\n",
    "    correct = []\n",
    "    with torch.no_grad(): # 使模型在运行时不进行梯度跟踪，可以减少模型运行时对内存的占用。\n",
    "        for i,data in enumerate(val_loader):\n",
    "            y,x = data\n",
    "            x = x.to(device)\n",
    "            y = y.to(device)\n",
    "            y_hat = model(x)\n",
    "\n",
    "            pred = y_hat.max(1,keepdim=True)[1] # 获取预测结果\n",
    "            correct.append(pred.eq(y.view_as(pred)).sum().item()/pred.shape[0]) # 收集精确度\n",
    "    print('\\nTest:Average Accuracy:({:,.6f}%)\\n'.format(np.mean(correct)*100)) # 输出测试结果"
   ],
   "metadata": {
    "collapsed": false,
    "pycharm": {
     "name": "#%%\n"
    }
   }
  },
  {
   "cell_type": "code",
   "execution_count": 15,
   "outputs": [
    {
     "name": "stdout",
     "output_type": "stream",
     "text": [
      "epoch 1 / 2\n",
      "loss 5.354841 rightNum 17 wrongNum 33 Acc:34.000000%\n",
      "loss 4.381519 rightNum 306 wrongNum 544 Acc:36.000000%\n",
      "loss 5.773132 rightNum 566 wrongNum 1084 Acc:34.303030%\n",
      "loss 4.770171 rightNum 828 wrongNum 1622 Acc:33.795918%\n",
      "loss 5.717267 rightNum 1055 wrongNum 2195 Acc:32.461538%\n",
      "loss 5.312715 rightNum 1298 wrongNum 2752 Acc:32.049383%\n",
      "loss 6.733914 rightNum 1525 wrongNum 3325 Acc:31.443299%\n",
      "loss 6.831774 rightNum 1766 wrongNum 3884 Acc:31.256637%\n",
      "TOTALrightNum 1869 TOTALwrongNum 4125 Acc:31.181181%\n",
      "save\n",
      "epoch 2 / 2\n",
      "loss 4.405069 rightNum 16 wrongNum 34 Acc:32.000000%\n",
      "loss 4.107169 rightNum 345 wrongNum 505 Acc:40.588235%\n",
      "loss 5.709774 rightNum 626 wrongNum 1024 Acc:37.939394%\n",
      "loss 4.222543 rightNum 924 wrongNum 1526 Acc:37.714286%\n",
      "loss 4.755603 rightNum 1197 wrongNum 2053 Acc:36.830769%\n",
      "loss 6.934615 rightNum 1484 wrongNum 2566 Acc:36.641975%\n",
      "loss 7.122550 rightNum 1767 wrongNum 3083 Acc:36.432990%\n",
      "loss 5.140089 rightNum 2037 wrongNum 3613 Acc:36.053097%\n",
      "TOTALrightNum 2156 TOTALwrongNum 3838 Acc:35.969303%\n",
      "save\n"
     ]
    }
   ],
   "source": [
    "# torch.cuda.empty_cache()\n",
    "train(md,trainDataLoader,epoch=3,learning_rate=0.1,fz=True)"
   ],
   "metadata": {
    "collapsed": false,
    "pycharm": {
     "name": "#%%\n"
    }
   }
  },
  {
   "cell_type": "code",
   "execution_count": 16,
   "outputs": [
    {
     "name": "stdout",
     "output_type": "stream",
     "text": [
      "\n",
      "Test:Average Accuracy:(31%)\n",
      "\n"
     ]
    }
   ],
   "source": [
    "test(md,testDataLoader)"
   ],
   "metadata": {
    "collapsed": false,
    "pycharm": {
     "name": "#%%\n"
    }
   }
  },
  {
   "cell_type": "code",
   "execution_count": 17,
   "outputs": [
    {
     "name": "stdout",
     "output_type": "stream",
     "text": [
      "epoch 1 / 10\n",
      "loss 4.299787 rightNum 23 wrongNum 27 Acc:46.000000%\n",
      "loss 2.861226 rightNum 402 wrongNum 448 Acc:47.294118%\n",
      "loss 2.128547 rightNum 807 wrongNum 843 Acc:48.909091%\n",
      "loss 2.041297 rightNum 1212 wrongNum 1238 Acc:49.469388%\n",
      "loss 1.690367 rightNum 1642 wrongNum 1608 Acc:50.523077%\n",
      "loss 1.843529 rightNum 2082 wrongNum 1968 Acc:51.407407%\n",
      "loss 1.759590 rightNum 2511 wrongNum 2339 Acc:51.773196%\n",
      "loss 2.053535 rightNum 2937 wrongNum 2713 Acc:51.982301%\n",
      "TOTALrightNum 3133 TOTALwrongNum 2861 Acc:52.268936%\n",
      "save\n",
      "epoch 2 / 10\n",
      "loss 1.437905 rightNum 27 wrongNum 23 Acc:54.000000%\n",
      "loss 1.550005 rightNum 505 wrongNum 345 Acc:59.411765%\n",
      "loss 1.574197 rightNum 983 wrongNum 667 Acc:59.575758%\n",
      "loss 1.400715 rightNum 1450 wrongNum 1000 Acc:59.183673%\n",
      "loss 1.626974 rightNum 1934 wrongNum 1316 Acc:59.507692%\n",
      "loss 1.453137 rightNum 2412 wrongNum 1638 Acc:59.555556%\n",
      "loss 1.571787 rightNum 2880 wrongNum 1970 Acc:59.381443%\n",
      "loss 1.847677 rightNum 3349 wrongNum 2301 Acc:59.274336%\n",
      "TOTALrightNum 3549 TOTALwrongNum 2445 Acc:59.209209%\n",
      "save\n",
      "epoch 3 / 10\n",
      "loss 1.142454 rightNum 34 wrongNum 16 Acc:68.000000%\n",
      "loss 1.347606 rightNum 535 wrongNum 315 Acc:62.941176%\n",
      "loss 1.219438 rightNum 1050 wrongNum 600 Acc:63.636364%\n",
      "loss 1.454772 rightNum 1546 wrongNum 904 Acc:63.102041%\n",
      "loss 1.148007 rightNum 2078 wrongNum 1172 Acc:63.938462%\n",
      "loss 1.532296 rightNum 2562 wrongNum 1488 Acc:63.259259%\n",
      "loss 1.276109 rightNum 3052 wrongNum 1798 Acc:62.927835%\n",
      "loss 1.475865 rightNum 3562 wrongNum 2088 Acc:63.044248%\n",
      "TOTALrightNum 3775 TOTALwrongNum 2219 Acc:62.979646%\n",
      "save\n",
      "epoch 4 / 10\n",
      "loss 1.847693 rightNum 29 wrongNum 21 Acc:58.000000%\n",
      "loss 1.455932 rightNum 556 wrongNum 294 Acc:65.411765%\n",
      "loss 1.619508 rightNum 1086 wrongNum 564 Acc:65.818182%\n",
      "loss 1.179129 rightNum 1608 wrongNum 842 Acc:65.632653%\n",
      "loss 1.546630 rightNum 2115 wrongNum 1135 Acc:65.076923%\n",
      "loss 1.804822 rightNum 2634 wrongNum 1416 Acc:65.037037%\n",
      "loss 1.650176 rightNum 3147 wrongNum 1703 Acc:64.886598%\n",
      "loss 1.888202 rightNum 3672 wrongNum 1978 Acc:64.991150%\n",
      "TOTALrightNum 3894 TOTALwrongNum 2100 Acc:64.964965%\n",
      "save\n",
      "epoch 5 / 10\n",
      "loss 1.318828 rightNum 30 wrongNum 20 Acc:60.000000%\n",
      "loss 1.177658 rightNum 568 wrongNum 282 Acc:66.823529%\n",
      "loss 1.192794 rightNum 1107 wrongNum 543 Acc:67.090909%\n",
      "loss 1.015114 rightNum 1644 wrongNum 806 Acc:67.102041%\n",
      "loss 0.551855 rightNum 2205 wrongNum 1045 Acc:67.846154%\n",
      "loss 1.193729 rightNum 2747 wrongNum 1303 Acc:67.827160%\n",
      "loss 0.931302 rightNum 3295 wrongNum 1555 Acc:67.938144%\n",
      "loss 1.369816 rightNum 3829 wrongNum 1821 Acc:67.769912%\n",
      "TOTALrightNum 4075 TOTALwrongNum 1919 Acc:67.984651%\n",
      "save\n",
      "epoch 6 / 10\n",
      "loss 1.185048 rightNum 29 wrongNum 21 Acc:58.000000%\n",
      "loss 1.372527 rightNum 557 wrongNum 293 Acc:65.529412%\n",
      "loss 1.086842 rightNum 1103 wrongNum 547 Acc:66.848485%\n",
      "loss 1.195642 rightNum 1655 wrongNum 795 Acc:67.551020%\n",
      "loss 1.106157 rightNum 2213 wrongNum 1037 Acc:68.092308%\n",
      "loss 0.759470 rightNum 2781 wrongNum 1269 Acc:68.666667%\n",
      "loss 1.179464 rightNum 3320 wrongNum 1530 Acc:68.453608%\n",
      "loss 1.016809 rightNum 3863 wrongNum 1787 Acc:68.371681%\n",
      "TOTALrightNum 4095 TOTALwrongNum 1899 Acc:68.318318%\n",
      "save\n",
      "epoch 7 / 10\n",
      "loss 1.180240 rightNum 34 wrongNum 16 Acc:68.000000%\n",
      "loss 1.139925 rightNum 605 wrongNum 245 Acc:71.176471%\n",
      "loss 0.774431 rightNum 1150 wrongNum 500 Acc:69.696970%\n",
      "loss 0.683734 rightNum 1716 wrongNum 734 Acc:70.040816%\n",
      "loss 1.392198 rightNum 2283 wrongNum 967 Acc:70.246154%\n",
      "loss 0.962475 rightNum 2869 wrongNum 1181 Acc:70.839506%\n",
      "loss 1.298559 rightNum 3413 wrongNum 1437 Acc:70.371134%\n",
      "loss 1.427515 rightNum 3982 wrongNum 1668 Acc:70.477876%\n",
      "TOTALrightNum 4249 TOTALwrongNum 1745 Acc:70.887554%\n",
      "save\n",
      "epoch 8 / 10\n",
      "loss 1.296092 rightNum 35 wrongNum 15 Acc:70.000000%\n",
      "loss 0.867930 rightNum 625 wrongNum 225 Acc:73.529412%\n",
      "loss 0.896331 rightNum 1198 wrongNum 452 Acc:72.606061%\n",
      "loss 0.836749 rightNum 1773 wrongNum 677 Acc:72.367347%\n",
      "loss 0.883264 rightNum 2362 wrongNum 888 Acc:72.676923%\n",
      "loss 0.991704 rightNum 2936 wrongNum 1114 Acc:72.493827%\n",
      "loss 1.303287 rightNum 3508 wrongNum 1342 Acc:72.329897%\n",
      "loss 0.943280 rightNum 4093 wrongNum 1557 Acc:72.442478%\n",
      "TOTALrightNum 4352 TOTALwrongNum 1642 Acc:72.605939%\n",
      "save\n",
      "epoch 9 / 10\n",
      "loss 0.895143 rightNum 36 wrongNum 14 Acc:72.000000%\n",
      "loss 0.440991 rightNum 623 wrongNum 227 Acc:73.294118%\n",
      "loss 0.819843 rightNum 1217 wrongNum 433 Acc:73.757576%\n",
      "loss 0.680042 rightNum 1812 wrongNum 638 Acc:73.959184%\n",
      "loss 0.982295 rightNum 2402 wrongNum 848 Acc:73.907692%\n",
      "loss 0.629680 rightNum 3015 wrongNum 1035 Acc:74.444444%\n",
      "loss 0.556500 rightNum 3624 wrongNum 1226 Acc:74.721649%\n",
      "loss 0.794694 rightNum 4202 wrongNum 1448 Acc:74.371681%\n",
      "TOTALrightNum 4475 TOTALwrongNum 1519 Acc:74.657991%\n",
      "save\n",
      "epoch 10 / 10\n",
      "loss 0.865627 rightNum 40 wrongNum 10 Acc:80.000000%\n",
      "loss 0.631746 rightNum 638 wrongNum 212 Acc:75.058824%\n",
      "loss 1.050345 rightNum 1266 wrongNum 384 Acc:76.727273%\n",
      "loss 0.674555 rightNum 1870 wrongNum 580 Acc:76.326531%\n",
      "loss 0.672321 rightNum 2498 wrongNum 752 Acc:76.861538%\n",
      "loss 0.759182 rightNum 3108 wrongNum 942 Acc:76.740741%\n",
      "loss 0.572694 rightNum 3712 wrongNum 1138 Acc:76.536082%\n",
      "loss 0.479057 rightNum 4328 wrongNum 1322 Acc:76.601770%\n",
      "TOTALrightNum 4577 TOTALwrongNum 1417 Acc:76.359693%\n",
      "save\n"
     ]
    }
   ],
   "source": [
    "train(md,trainDataLoader,epoch=10,learning_rate=0.0002,fz=False)"
   ],
   "metadata": {
    "collapsed": false,
    "pycharm": {
     "name": "#%%\n"
    }
   }
  },
  {
   "cell_type": "code",
   "execution_count": 18,
   "outputs": [
    {
     "name": "stdout",
     "output_type": "stream",
     "text": [
      "\n",
      "Test:Average Accuracy:(46%)\n",
      "\n"
     ]
    }
   ],
   "source": [
    "# torch.cuda.empty_cache()\n",
    "test(md, testDataLoader)"
   ],
   "metadata": {
    "collapsed": false,
    "pycharm": {
     "name": "#%%\n"
    }
   }
  },
  {
   "cell_type": "code",
   "execution_count": 19,
   "outputs": [
    {
     "name": "stdout",
     "output_type": "stream",
     "text": [
      "epoch 1 / 5\n",
      "loss 0.603360 rightNum 42 wrongNum 8 Acc:84.000000%\n",
      "loss 0.975215 rightNum 668 wrongNum 182 Acc:78.588235%\n",
      "loss 0.743293 rightNum 1292 wrongNum 358 Acc:78.303030%\n",
      "loss 0.491850 rightNum 1911 wrongNum 539 Acc:78.000000%\n",
      "loss 0.853033 rightNum 2540 wrongNum 710 Acc:78.153846%\n",
      "loss 0.528115 rightNum 3166 wrongNum 884 Acc:78.172840%\n",
      "loss 0.619024 rightNum 3797 wrongNum 1053 Acc:78.288660%\n",
      "loss 0.798643 rightNum 4423 wrongNum 1227 Acc:78.283186%\n",
      "TOTALrightNum 4683 TOTALwrongNum 1311 Acc:78.128128%\n",
      "save\n",
      "epoch 2 / 5\n",
      "loss 0.793550 rightNum 39 wrongNum 11 Acc:78.000000%\n",
      "loss 0.600752 rightNum 645 wrongNum 205 Acc:75.882353%\n",
      "loss 0.443632 rightNum 1288 wrongNum 362 Acc:78.060606%\n",
      "loss 0.651513 rightNum 1917 wrongNum 533 Acc:78.244898%\n",
      "loss 0.616753 rightNum 2555 wrongNum 695 Acc:78.615385%\n",
      "loss 0.740887 rightNum 3197 wrongNum 853 Acc:78.938272%\n",
      "loss 0.922331 rightNum 3812 wrongNum 1038 Acc:78.597938%\n",
      "loss 1.024472 rightNum 4414 wrongNum 1236 Acc:78.123894%\n",
      "TOTALrightNum 4681 TOTALwrongNum 1313 Acc:78.094761%\n",
      "save\n",
      "epoch 3 / 5\n",
      "loss 0.530238 rightNum 41 wrongNum 9 Acc:82.000000%\n",
      "loss 0.725706 rightNum 675 wrongNum 175 Acc:79.411765%\n",
      "loss 0.407689 rightNum 1306 wrongNum 344 Acc:79.151515%\n",
      "loss 0.690032 rightNum 1915 wrongNum 535 Acc:78.163265%\n",
      "loss 0.843017 rightNum 2551 wrongNum 699 Acc:78.492308%\n",
      "loss 0.839421 rightNum 3169 wrongNum 881 Acc:78.246914%\n",
      "loss 0.663994 rightNum 3822 wrongNum 1028 Acc:78.804124%\n",
      "loss 0.740136 rightNum 4458 wrongNum 1192 Acc:78.902655%\n",
      "TOTALrightNum 4729 TOTALwrongNum 1265 Acc:78.895562%\n",
      "save\n",
      "epoch 4 / 5\n",
      "loss 0.393268 rightNum 46 wrongNum 4 Acc:92.000000%\n",
      "loss 0.927917 rightNum 677 wrongNum 173 Acc:79.647059%\n",
      "loss 0.480196 rightNum 1309 wrongNum 341 Acc:79.333333%\n",
      "loss 1.088388 rightNum 1936 wrongNum 514 Acc:79.020408%\n",
      "loss 0.962814 rightNum 2587 wrongNum 663 Acc:79.600000%\n",
      "loss 0.950737 rightNum 3237 wrongNum 813 Acc:79.925926%\n",
      "loss 0.802391 rightNum 3857 wrongNum 993 Acc:79.525773%\n",
      "loss 0.730580 rightNum 4490 wrongNum 1160 Acc:79.469027%\n",
      "TOTALrightNum 4764 TOTALwrongNum 1230 Acc:79.479479%\n",
      "save\n",
      "epoch 5 / 5\n",
      "loss 0.786074 rightNum 37 wrongNum 13 Acc:74.000000%\n",
      "loss 0.861756 rightNum 682 wrongNum 168 Acc:80.235294%\n",
      "loss 0.648588 rightNum 1312 wrongNum 338 Acc:79.515152%\n",
      "loss 0.558188 rightNum 1947 wrongNum 503 Acc:79.469388%\n",
      "loss 0.722230 rightNum 2563 wrongNum 687 Acc:78.861538%\n",
      "loss 0.830252 rightNum 3193 wrongNum 857 Acc:78.839506%\n",
      "loss 0.828035 rightNum 3836 wrongNum 1014 Acc:79.092784%\n",
      "loss 0.757363 rightNum 4461 wrongNum 1189 Acc:78.955752%\n",
      "TOTALrightNum 4725 TOTALwrongNum 1269 Acc:78.828829%\n",
      "save\n",
      "\n",
      "Test:Average Accuracy:(47%)\n",
      "\n"
     ]
    }
   ],
   "source": [
    "train(md,trainDataLoader,epoch=5,learning_rate=0.00005,fz=False)\n",
    "test(md, testDataLoader)"
   ],
   "metadata": {
    "collapsed": false,
    "pycharm": {
     "name": "#%%\n"
    }
   }
  },
  {
   "cell_type": "code",
   "execution_count": 21,
   "outputs": [
    {
     "name": "stdout",
     "output_type": "stream",
     "text": [
      "\n",
      "Test:Average Accuracy:(47.045488%)\n",
      "\n"
     ]
    }
   ],
   "source": [
    "test(md, testDataLoader)"
   ],
   "metadata": {
    "collapsed": false,
    "pycharm": {
     "name": "#%%\n"
    }
   }
  },
  {
   "cell_type": "code",
   "execution_count": null,
   "outputs": [],
   "source": [],
   "metadata": {
    "collapsed": false,
    "pycharm": {
     "name": "#%%\n"
    }
   }
  }
 ],
 "metadata": {
  "kernelspec": {
   "display_name": "Python 3",
   "language": "python",
   "name": "python3"
  },
  "language_info": {
   "codemirror_mode": {
    "name": "ipython",
    "version": 2
   },
   "file_extension": ".py",
   "mimetype": "text/x-python",
   "name": "python",
   "nbconvert_exporter": "python",
   "pygments_lexer": "ipython2",
   "version": "2.7.6"
  }
 },
 "nbformat": 4,
 "nbformat_minor": 0
}